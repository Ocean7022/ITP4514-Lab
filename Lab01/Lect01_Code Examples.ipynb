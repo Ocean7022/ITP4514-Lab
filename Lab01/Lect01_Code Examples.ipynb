{
 "cells": [
  {
   "cell_type": "markdown",
   "metadata": {},
   "source": [
    "## ITP4514 - Lecture 1 - Code Examples"
   ]
  },
  {
   "cell_type": "code",
   "execution_count": 1,
   "metadata": {
    "colab": {
     "base_uri": "https://localhost:8080/"
    },
    "executionInfo": {
     "elapsed": 872,
     "status": "ok",
     "timestamp": 1617862899302,
     "user": {
      "displayName": "Lun Po",
      "photoUrl": "",
      "userId": "04140092506556908792"
     },
     "user_tz": -480
    },
    "id": "bS2J5p0SH0OO",
    "outputId": "04c3b2c9-e4f3-41a8-a8df-8acd4c6aa341"
   },
   "outputs": [
    {
     "name": "stdout",
     "output_type": "stream",
     "text": [
      "<class 'int'>\n",
      "<class 'str'>\n",
      "<class 'bool'>\n",
      "<class 'list'>\n",
      "<class 'dict'>\n"
     ]
    }
   ],
   "source": [
    "x = 5\n",
    "y = 'alan'\n",
    "z = True\n",
    "a = [1,2,3]\n",
    "b = {\"name\" : 'alan', \"age\": 18.5}\n",
    "print(type(x))\n",
    "print(type(y))\n",
    "print(type(z))\n",
    "print(type(a))\n",
    "print(type(b))"
   ]
  },
  {
   "cell_type": "code",
   "execution_count": 2,
   "metadata": {
    "colab": {
     "base_uri": "https://localhost:8080/"
    },
    "executionInfo": {
     "elapsed": 680,
     "status": "ok",
     "timestamp": 1617863536690,
     "user": {
      "displayName": "Lun Po",
      "photoUrl": "",
      "userId": "04140092506556908792"
     },
     "user_tz": -480
    },
    "id": "UbqOd3kIK8zY",
    "outputId": "c237f71a-8f94-4517-a1f2-4065d275724a"
   },
   "outputs": [
    {
     "name": "stdout",
     "output_type": "stream",
     "text": [
      "<class 'int'>\n",
      "<class 'float'>\n",
      "<class 'str'>\n"
     ]
    }
   ],
   "source": [
    "x = int(\"4\")\n",
    "y = float(4)\n",
    "z = str(\"4.5\")\n",
    "print(type(x))\n",
    "print(type(y))\n",
    "print(type(z))"
   ]
  },
  {
   "cell_type": "code",
   "execution_count": 3,
   "metadata": {
    "colab": {
     "base_uri": "https://localhost:8080/"
    },
    "executionInfo": {
     "elapsed": 1436,
     "status": "ok",
     "timestamp": 1617866318710,
     "user": {
      "displayName": "Lun Po",
      "photoUrl": "",
      "userId": "04140092506556908792"
     },
     "user_tz": -480
    },
    "id": "BncxVmS7Ui_r",
    "outputId": "178b3da1-d170-461e-f923-00346d05380e"
   },
   "outputs": [
    {
     "name": "stdout",
     "output_type": "stream",
     "text": [
      "False\n",
      "True\n",
      "False\n",
      "False\n",
      "True\n",
      "False\n"
     ]
    }
   ],
   "source": [
    "k=4\n",
    "m=5\n",
    "print(k==m)\n",
    "print(k!=m)\n",
    "print(k>m)\n",
    "print(m<k)\n",
    "print(k<=m)\n",
    "print(k>=m)"
   ]
  },
  {
   "cell_type": "code",
   "execution_count": 4,
   "metadata": {
    "colab": {
     "base_uri": "https://localhost:8080/"
    },
    "executionInfo": {
     "elapsed": 731,
     "status": "ok",
     "timestamp": 1617866390064,
     "user": {
      "displayName": "Lun Po",
      "photoUrl": "",
      "userId": "04140092506556908792"
     },
     "user_tz": -480
    },
    "id": "HXPUtsIvWKFM",
    "outputId": "044913ca-8d7e-4768-941a-513d0f99559e"
   },
   "outputs": [
    {
     "name": "stdout",
     "output_type": "stream",
     "text": [
      "False\n",
      "True\n"
     ]
    }
   ],
   "source": [
    "k=4\n",
    "m=5\n",
    "print(k==m and k>m)\n",
    "print(k!=m or k<=m)"
   ]
  },
  {
   "cell_type": "code",
   "execution_count": 5,
   "metadata": {
    "colab": {
     "base_uri": "https://localhost:8080/"
    },
    "executionInfo": {
     "elapsed": 693,
     "status": "ok",
     "timestamp": 1617869867145,
     "user": {
      "displayName": "Lun Po",
      "photoUrl": "",
      "userId": "04140092506556908792"
     },
     "user_tz": -480
    },
    "id": "QlTLGaihjNES",
    "outputId": "5c970fc8-2722-40fc-adb7-0a95d0d1d418"
   },
   "outputs": [
    {
     "name": "stdout",
     "output_type": "stream",
     "text": [
      "This is True\n"
     ]
    }
   ],
   "source": [
    "k=4\n",
    "m=5\n",
    "if k==m or k<m:\n",
    "  print('This is True') #must be indented by using space"
   ]
  },
  {
   "cell_type": "code",
   "execution_count": 6,
   "metadata": {
    "colab": {
     "base_uri": "https://localhost:8080/"
    },
    "executionInfo": {
     "elapsed": 672,
     "status": "ok",
     "timestamp": 1617870572003,
     "user": {
      "displayName": "Lun Po",
      "photoUrl": "",
      "userId": "04140092506556908792"
     },
     "user_tz": -480
    },
    "id": "M73D_X0zl8ok",
    "outputId": "52dad8b1-15b5-4613-85cc-ac7c11e2f53f"
   },
   "outputs": [
    {
     "name": "stdout",
     "output_type": "stream",
     "text": [
      "Grade: C\n"
     ]
    }
   ],
   "source": [
    "mark = 45\n",
    "if mark >= 70:\n",
    "  print('Grade: A')\n",
    "elif mark >=55: #else if\n",
    "  print('Grade: B')\n",
    "elif mark >= 40:\n",
    "  print('Grade: C')\n",
    "else:\n",
    "  print('Fail!')"
   ]
  },
  {
   "cell_type": "code",
   "execution_count": 7,
   "metadata": {
    "colab": {
     "base_uri": "https://localhost:8080/"
    },
    "executionInfo": {
     "elapsed": 1019,
     "status": "ok",
     "timestamp": 1617871441865,
     "user": {
      "displayName": "Lun Po",
      "photoUrl": "",
      "userId": "04140092506556908792"
     },
     "user_tz": -480
    },
    "id": "i-eWftBDpfQZ",
    "outputId": "642c3644-2124-4d77-e4b7-647824ea7cc7"
   },
   "outputs": [
    {
     "name": "stdout",
     "output_type": "stream",
     "text": [
      "10\n"
     ]
    }
   ],
   "source": [
    "i = 1\n",
    "sum = 0\n",
    "while i<5:\n",
    "  sum += i\n",
    "  i += 1\n",
    "print(sum)"
   ]
  },
  {
   "cell_type": "code",
   "execution_count": 8,
   "metadata": {
    "colab": {
     "base_uri": "https://localhost:8080/"
    },
    "executionInfo": {
     "elapsed": 716,
     "status": "ok",
     "timestamp": 1617871661449,
     "user": {
      "displayName": "Lun Po",
      "photoUrl": "",
      "userId": "04140092506556908792"
     },
     "user_tz": -480
    },
    "id": "cDa0JPFHqZTE",
    "outputId": "c83a0ad1-4250-4120-edfe-7aa66e96f1f4"
   },
   "outputs": [
    {
     "name": "stdout",
     "output_type": "stream",
     "text": [
      "red\n",
      "green\n",
      "blue\n"
     ]
    }
   ],
   "source": [
    "colors = ['red', 'green', 'blue']\n",
    "for color in colors:\n",
    "  print(color)"
   ]
  },
  {
   "cell_type": "code",
   "execution_count": 9,
   "metadata": {
    "colab": {
     "base_uri": "https://localhost:8080/"
    },
    "executionInfo": {
     "elapsed": 680,
     "status": "ok",
     "timestamp": 1617872434395,
     "user": {
      "displayName": "Lun Po",
      "photoUrl": "",
      "userId": "04140092506556908792"
     },
     "user_tz": -480
    },
    "id": "6STGgrz9rWqr",
    "outputId": "69a09b26-93f7-44f7-800a-db483472c340"
   },
   "outputs": [
    {
     "name": "stdout",
     "output_type": "stream",
     "text": [
      "rectangle:red\n",
      "circle:red\n",
      "rectangle:green\n",
      "circle:green\n",
      "rectangle:blue\n",
      "circle:blue\n"
     ]
    }
   ],
   "source": [
    "colors = ['red', 'green', 'blue']\n",
    "shapes = ['rectangle', 'circle']\n",
    "for color in colors:\n",
    "  for shape in shapes:\n",
    "    print (shape + ':' + color)"
   ]
  },
  {
   "cell_type": "code",
   "execution_count": 10,
   "metadata": {
    "colab": {
     "base_uri": "https://localhost:8080/"
    },
    "executionInfo": {
     "elapsed": 1112,
     "status": "ok",
     "timestamp": 1618985940033,
     "user": {
      "displayName": "Lun Po",
      "photoUrl": "",
      "userId": "04140092506556908792"
     },
     "user_tz": -480
    },
    "id": "toWYdxPG6iqy",
    "outputId": "fa62674d-49cb-4e1d-e3f6-117ffa25c99e"
   },
   "outputs": [
    {
     "name": "stdout",
     "output_type": "stream",
     "text": [
      "1\n",
      "2\n",
      "3\n",
      "4\n",
      "\n",
      "1\n",
      "3\n",
      "5\n",
      "7\n",
      "9\n"
     ]
    }
   ],
   "source": [
    "#Loop i in range 1 to 4! \n",
    "#Last value 5 is excluded\n",
    "for i in range(1,5):\n",
    "  print(i)\n",
    "print()\n",
    "for i in range(1, 10, 2):\n",
    "  print(i)"
   ]
  },
  {
   "cell_type": "code",
   "execution_count": 11,
   "metadata": {
    "colab": {
     "base_uri": "https://localhost:8080/"
    },
    "executionInfo": {
     "elapsed": 700,
     "status": "ok",
     "timestamp": 1617873258810,
     "user": {
      "displayName": "Lun Po",
      "photoUrl": "",
      "userId": "04140092506556908792"
     },
     "user_tz": -480
    },
    "id": "BPKaJhPkwKT3",
    "outputId": "348e6d5c-b2fa-478d-b6a8-f68d3fb8b8cd"
   },
   "outputs": [
    {
     "name": "stdout",
     "output_type": "stream",
     "text": [
      "Hello to \"Alan\"!\n"
     ]
    }
   ],
   "source": [
    "def sayHello(name):\n",
    "  print('Hello to \"'+name+'\"!')\n",
    "  \n",
    "myname = 'Alan'\n",
    "sayHello(myname)"
   ]
  },
  {
   "cell_type": "code",
   "execution_count": 12,
   "metadata": {
    "colab": {
     "base_uri": "https://localhost:8080/"
    },
    "executionInfo": {
     "elapsed": 471,
     "status": "ok",
     "timestamp": 1617873396062,
     "user": {
      "displayName": "Lun Po",
      "photoUrl": "",
      "userId": "04140092506556908792"
     },
     "user_tz": -480
    },
    "id": "ye-G9cyTw2RU",
    "outputId": "6f3a362d-2ca8-483e-d75a-a75c77fdbd12"
   },
   "outputs": [
    {
     "name": "stdout",
     "output_type": "stream",
     "text": [
      "Hello World!\n"
     ]
    }
   ],
   "source": [
    "def sayHello(name=''): #default value of name is empty string\n",
    "  if name == '':\n",
    "    print('Hello World!')\n",
    "  else:\n",
    "    print('Hello to \"'+name+'\"!')\n",
    "  \n",
    "sayHello() #no value, use default"
   ]
  },
  {
   "cell_type": "code",
   "execution_count": 13,
   "metadata": {
    "colab": {
     "base_uri": "https://localhost:8080/"
    },
    "executionInfo": {
     "elapsed": 1329,
     "status": "ok",
     "timestamp": 1617873559624,
     "user": {
      "displayName": "Lun Po",
      "photoUrl": "",
      "userId": "04140092506556908792"
     },
     "user_tz": -480
    },
    "id": "H5CRGNfKxQQw",
    "outputId": "714422d8-f4e6-46b0-bbc0-bc1a623d4847"
   },
   "outputs": [
    {
     "name": "stdout",
     "output_type": "stream",
     "text": [
      "5\n"
     ]
    }
   ],
   "source": [
    "def findMax(a, b):\n",
    "  if a > b: return a  #return a value\n",
    "  else: return b\n",
    "\n",
    "print(findMax(4,5))"
   ]
  },
  {
   "cell_type": "code",
   "execution_count": 14,
   "metadata": {
    "colab": {
     "base_uri": "https://localhost:8080/"
    },
    "executionInfo": {
     "elapsed": 8694,
     "status": "ok",
     "timestamp": 1617943064925,
     "user": {
      "displayName": "Lun Po",
      "photoUrl": "",
      "userId": "04140092506556908792"
     },
     "user_tz": -480
    },
    "id": "PVgIgP1H6hnX",
    "outputId": "e1ce5583-ec16-45ce-f7ba-1c61c07cb96f"
   },
   "outputs": [
    {
     "name": "stdout",
     "output_type": "stream",
     "text": [
      "Please input your name: Peter\n",
      "Hello to \"Peter\"!\n"
     ]
    }
   ],
   "source": [
    "yourname = input(\"Please input your name: \")\n",
    "if yourname == '':\n",
    "  print('Hello World!')\n",
    "else:\n",
    "  print('Hello to \"' + yourname + '\"!')"
   ]
  },
  {
   "cell_type": "code",
   "execution_count": 15,
   "metadata": {
    "colab": {
     "base_uri": "https://localhost:8080/"
    },
    "executionInfo": {
     "elapsed": 4903,
     "status": "ok",
     "timestamp": 1618899037497,
     "user": {
      "displayName": "Lun Po",
      "photoUrl": "",
      "userId": "04140092506556908792"
     },
     "user_tz": -480
    },
    "id": "1gfg51-45D1k",
    "outputId": "96ce5d60-5aa1-4885-f731-f21e6b9c8e35"
   },
   "outputs": [
    {
     "name": "stdout",
     "output_type": "stream",
     "text": [
      "Please input your age: 20\n",
      "<class 'str'>\n",
      "You are so old!\n"
     ]
    }
   ],
   "source": [
    "yourage = input(\"Please input your age: \")\n",
    "print(type(yourage))\n",
    "age = int(yourage)\n",
    "if age < 15:\n",
    "  print('You are so young!')\n",
    "else:\n",
    "  print('You are so old!')"
   ]
  }
 ],
 "metadata": {
  "colab": {
   "authorship_tag": "ABX9TyNPs3Vd99SG2JPMu7+WtLC7",
   "name": "PythonBasic.ipynb",
   "provenance": []
  },
  "kernelspec": {
   "display_name": "Python 3",
   "language": "python",
   "name": "python3"
  },
  "language_info": {
   "codemirror_mode": {
    "name": "ipython",
    "version": 3
   },
   "file_extension": ".py",
   "mimetype": "text/x-python",
   "name": "python",
   "nbconvert_exporter": "python",
   "pygments_lexer": "ipython3",
   "version": "3.8.5"
  }
 },
 "nbformat": 4,
 "nbformat_minor": 1
}
