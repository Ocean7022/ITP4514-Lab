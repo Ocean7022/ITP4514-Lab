{
 "cells": [
  {
   "cell_type": "code",
   "execution_count": null,
   "metadata": {
    "colab": {
     "base_uri": "https://localhost:8080/"
    },
    "executionInfo": {
     "elapsed": 2275,
     "status": "ok",
     "timestamp": 1618808165656,
     "user": {
      "displayName": "Lun Po",
      "photoUrl": "",
      "userId": "04140092506556908792"
     },
     "user_tz": -480
    },
    "id": "cTe6o7Xf-7tn",
    "outputId": "2608fc5d-4718-40b6-d5a1-d3e66e8cef34"
   },
   "outputs": [
    {
     "name": "stdout",
     "output_type": "stream",
     "text": [
      "0    5\n",
      "1    8\n",
      "2   -4\n",
      "3    2\n",
      "dtype: int64\n",
      "-4\n"
     ]
    }
   ],
   "source": [
    "import pandas as pd\n",
    "objs = pd.Series([5, 8, -4, 2])\n",
    "print(objs)\n",
    "print(objs[2])\n"
   ]
  },
  {
   "cell_type": "code",
   "execution_count": null,
   "metadata": {
    "colab": {
     "base_uri": "https://localhost:8080/"
    },
    "executionInfo": {
     "elapsed": 665,
     "status": "ok",
     "timestamp": 1618816884791,
     "user": {
      "displayName": "Lun Po",
      "photoUrl": "",
      "userId": "04140092506556908792"
     },
     "user_tz": -480
    },
    "id": "WgLhMAad46Og",
    "outputId": "fc5afe8c-7234-440a-c042-fb4e0b32c128"
   },
   "outputs": [
    {
     "name": "stdout",
     "output_type": "stream",
     "text": [
      "a    5\n",
      "b    8\n",
      "c   -4\n",
      "d    2\n",
      "dtype: int64\n",
      "a    5\n",
      "c   -4\n",
      "d    2\n",
      "dtype: int64\n",
      "a    5\n",
      "c   -4\n",
      "dtype: int64\n"
     ]
    }
   ],
   "source": [
    "import pandas as pd\n",
    "\n",
    "objs = pd.Series([5, 8, -4, 2],\n",
    "                 index=['a','b','c','d'])\n",
    "print(objs)\n",
    "#drop row 'b', and then assign to newobjs\n",
    "newobjs = objs.drop('b') #reassign a new series\n",
    "print(newobjs)\n",
    "\n",
    "#drop row 'b' and 'd', and then assign to newobjs\n",
    "newobjs = objs.drop(['b', 'd']) #reassign a new series\n",
    "print(newobjs)"
   ]
  },
  {
   "cell_type": "code",
   "execution_count": null,
   "metadata": {
    "colab": {
     "base_uri": "https://localhost:8080/"
    },
    "executionInfo": {
     "elapsed": 1320,
     "status": "ok",
     "timestamp": 1618809117866,
     "user": {
      "displayName": "Lun Po",
      "photoUrl": "",
      "userId": "04140092506556908792"
     },
     "user_tz": -480
    },
    "id": "uiI-22Cie7ax",
    "outputId": "c4dfabc5-6553-4a65-f364-e252040d0693"
   },
   "outputs": [
    {
     "name": "stdout",
     "output_type": "stream",
     "text": [
      "China    13.78\n",
      "USA       3.24\n",
      "UK        0.65\n",
      "Japan     1.27\n",
      "dtype: float64\n",
      "3.24\n"
     ]
    }
   ],
   "source": [
    "import pandas as pd\n",
    "popul = pd.Series([13.78, 3.24, 0.65, 1.27],\n",
    "          index=['China','USA','UK','Japan'])\n",
    "print(popul)\n",
    "print(popul['USA'])"
   ]
  },
  {
   "cell_type": "code",
   "execution_count": null,
   "metadata": {
    "colab": {
     "base_uri": "https://localhost:8080/"
    },
    "executionInfo": {
     "elapsed": 680,
     "status": "ok",
     "timestamp": 1618809510592,
     "user": {
      "displayName": "Lun Po",
      "photoUrl": "",
      "userId": "04140092506556908792"
     },
     "user_tz": -480
    },
    "id": "yVSloqQfj318",
    "outputId": "f13c75f3-6b94-4c73-bb6a-9f7b1fddea30"
   },
   "outputs": [
    {
     "name": "stdout",
     "output_type": "stream",
     "text": [
      "China    13.78\n",
      "USA       3.24\n",
      "UK        0.65\n",
      "dtype: float64\n"
     ]
    }
   ],
   "source": [
    "import pandas as pd\n",
    "populdict = {\"China\": 13.78, \"USA\": 3.24, \"UK\": 0.65}\n",
    "popul = pd.Series(populdict)\n",
    "print(popul)"
   ]
  },
  {
   "cell_type": "code",
   "execution_count": null,
   "metadata": {
    "colab": {
     "base_uri": "https://localhost:8080/"
    },
    "executionInfo": {
     "elapsed": 713,
     "status": "ok",
     "timestamp": 1618809974351,
     "user": {
      "displayName": "Lun Po",
      "photoUrl": "",
      "userId": "04140092506556908792"
     },
     "user_tz": -480
    },
    "id": "jDuYWQaLlOha",
    "outputId": "6b7129ae-047a-4ffc-f111-a6636e256cd8"
   },
   "outputs": [
    {
     "name": "stdout",
     "output_type": "stream",
     "text": [
      "UK       0.65\n",
      "Japan    1.27\n",
      "dtype: float64\n",
      "\n",
      "False\n",
      "\n",
      "China    13.78\n",
      "UK        0.65\n",
      "dtype: float64\n"
     ]
    }
   ],
   "source": [
    "import pandas as pd\n",
    "popul = pd.Series([13.78, 3.24, 0.65, 1.27],\n",
    "          index=['China','USA','UK','Japan'])\n",
    "print(popul[popul<3])\n",
    "print()\n",
    "print('HK' in popul)\n",
    "print()\n",
    "print(popul[['China', 'UK']])"
   ]
  },
  {
   "cell_type": "code",
   "execution_count": 8,
   "metadata": {
    "colab": {
     "base_uri": "https://localhost:8080/"
    },
    "executionInfo": {
     "elapsed": 979,
     "status": "ok",
     "timestamp": 1619417557289,
     "user": {
      "displayName": "Lun Po",
      "photoUrl": "",
      "userId": "04140092506556908792"
     },
     "user_tz": -480
    },
    "id": "opa_iNOlrZiq",
    "outputId": "fe6b6bdc-e442-4258-cb9f-5fb67c136c81"
   },
   "outputs": [
    {
     "name": "stdout",
     "output_type": "stream",
     "text": [
      "    state  year  pop\n",
      "0    Ohio  2017  1.5\n",
      "1    Ohio  2018  1.7\n",
      "2    Ohio  2019  3.6\n",
      "3  Nevada  2018  2.4\n",
      "4  Nevada  2019  2.9\n",
      "\n",
      "5\n",
      "\n",
      "Index(['state', 'year', 'pop'], dtype='object')\n",
      "\n",
      "0      Ohio\n",
      "1      Ohio\n",
      "2      Ohio\n",
      "3    Nevada\n",
      "4    Nevada\n",
      "Name: state, dtype: object\n",
      "\n",
      "state    Ohio\n",
      "year     2019\n",
      "pop       3.6\n",
      "Name: 2, dtype: object\n"
     ]
    }
   ],
   "source": [
    "import pandas as pd\n",
    "\n",
    "data = {'state': ['Ohio', 'Ohio', 'Ohio', 'Nevada', 'Nevada'],\n",
    "        'year': [2017, 2018, 2019, 2018, 2019],\n",
    "        'pop': [1.5, 1.7, 3.6, 2.4, 2.9]}\n",
    "frame = pd.DataFrame(data)\n",
    "print(frame)\n",
    "print()\n",
    "\n",
    "#Length of the Data Frame\n",
    "print(len(frame.index))\n",
    "print()\n",
    "#Get the column names\n",
    "print(frame.columns)\n",
    "print()\n",
    "#Get the column 'state'\n",
    "print(frame.state)\n",
    "print()\n",
    "#Get the third row \n",
    "print(frame.loc[2])"
   ]
  },
  {
   "cell_type": "code",
   "execution_count": 7,
   "metadata": {
    "colab": {
     "base_uri": "https://localhost:8080/"
    },
    "executionInfo": {
     "elapsed": 1110,
     "status": "ok",
     "timestamp": 1619417413238,
     "user": {
      "displayName": "Lun Po",
      "photoUrl": "",
      "userId": "04140092506556908792"
     },
     "user_tz": -480
    },
    "id": "VsMQ-WOhuJNr",
    "outputId": "d0c44f07-5626-4270-a531-6105e9463b30"
   },
   "outputs": [
    {
     "name": "stdout",
     "output_type": "stream",
     "text": [
      "    state    year  pop\n",
      "2    Ohio  2018.0  1.7\n",
      "0  Nevada  2018.0  2.4\n",
      "    state    year  pop\n",
      "0    Ohio  2018.0  1.7\n",
      "1  Nevada  2018.0  2.4\n"
     ]
    }
   ],
   "source": [
    "import pandas as pd\n",
    "\n",
    "data = {'state': ['Ohio', 'Ohio', 'Ohio', 'Nevada', 'Nevada'],\n",
    "        'year': [2017, 2018, 2019, 2018, 2019],\n",
    "        'pop': [1.5, 1.7, 3.6, 2.4, 2.9]}\n",
    "frame = pd.DataFrame(data)\n",
    "\n",
    "#Update a record with another Data Frame\n",
    "data2 = {'state': [], 'year': [], 'pop':0.0}\n",
    "frame2 = pd.DataFrame(data2)\n",
    "frame2.loc[2] = frame.loc[1]\n",
    "frame2.loc[0] = frame.loc[3]\n",
    "print(frame2)\n",
    "\n",
    "#Reset the order\n",
    "frame2.reset_index(drop=True, inplace=True)\n",
    "print(frame2)"
   ]
  },
  {
   "cell_type": "code",
   "execution_count": null,
   "metadata": {
    "colab": {
     "base_uri": "https://localhost:8080/"
    },
    "executionInfo": {
     "elapsed": 698,
     "status": "ok",
     "timestamp": 1618814087416,
     "user": {
      "displayName": "Lun Po",
      "photoUrl": "",
      "userId": "04140092506556908792"
     },
     "user_tz": -480
    },
    "id": "wUqEkANw0B2d",
    "outputId": "4918544e-7a8b-4e11-e939-7589a8c2d24a"
   },
   "outputs": [
    {
     "name": "stdout",
     "output_type": "stream",
     "text": [
      "    state  year  pop\n",
      "0    Ohio  2017  1.5\n",
      "1    Ohio  2020  1.7\n",
      "2    Ohio  2019  3.6\n",
      "3  Nevada  2018  2.4\n",
      "4  Nevada  2019  2.9\n",
      "\n",
      "    state  year  pop\n",
      "0    Ohio  2021  1.5\n",
      "1    Ohio  2021  1.7\n",
      "2    Ohio  2021  3.6\n",
      "3  Nevada  2021  2.4\n",
      "4  Nevada  2021  2.9\n"
     ]
    }
   ],
   "source": [
    "import pandas as pd\n",
    "\n",
    "data = {'state': ['Ohio', 'Ohio', 'Ohio', 'Nevada', 'Nevada'],\n",
    "        'year': [2017, 2018, 2019, 2018, 2019],\n",
    "        'pop': [1.5, 1.7, 3.6, 2.4, 2.9]}\n",
    "frame = pd.DataFrame(data)\n",
    "\n",
    "#Change value at row 1, column 'year'\n",
    "frame.at[1, 'year'] = 2020\n",
    "print(frame)\n",
    "print()\n",
    "#Change the whole column 'year' to 2021\n",
    "frame.year = 2021\n",
    "print(frame)"
   ]
  },
  {
   "cell_type": "code",
   "execution_count": 1,
   "metadata": {
    "colab": {
     "base_uri": "https://localhost:8080/"
    },
    "executionInfo": {
     "elapsed": 1477,
     "status": "ok",
     "timestamp": 1619414991384,
     "user": {
      "displayName": "Lun Po",
      "photoUrl": "",
      "userId": "04140092506556908792"
     },
     "user_tz": -480
    },
    "id": "qvfd98h84FVS",
    "outputId": "99f2ece8-c0d4-483b-c3e3-1542996fda68"
   },
   "outputs": [
    {
     "name": "stdout",
     "output_type": "stream",
     "text": [
      "    state  year  pop\n",
      "0    Ohio  2017  1.5\n",
      "2    Ohio  2019  3.6\n",
      "3  Nevada  2018  2.4\n",
      "4  Nevada  2019  2.9\n",
      "\n",
      "    state  pop\n",
      "0    Ohio  1.5\n",
      "1    Ohio  1.7\n",
      "2    Ohio  3.6\n",
      "3  Nevada  2.4\n",
      "4  Nevada  2.9\n",
      "\n",
      "    state  year  pop\n",
      "0    Ohio  2017  1.5\n",
      "2    Ohio  2019  3.6\n",
      "3  Nevada  2018  2.4\n",
      "4  Nevada  2019  2.9\n"
     ]
    }
   ],
   "source": [
    "import pandas as pd\n",
    "\n",
    "data = {'state': ['Ohio', 'Ohio', 'Ohio', 'Nevada', 'Nevada'],\n",
    "        'year': [2017, 2018, 2019, 2018, 2019],\n",
    "        'pop': [1.5, 1.7, 3.6, 2.4, 2.9]}\n",
    "frame = pd.DataFrame(data)\n",
    "\n",
    "#drop row 1\n",
    "newframe = frame.drop(1)\n",
    "print(newframe)\n",
    "print()\n",
    "#drop column 'year'\n",
    "#need to change axis from row (by default) to column\n",
    "newframe = frame.drop('year', axis=1)\n",
    "print(newframe)\n",
    "print()\n",
    "\n",
    "frame.drop(1, inplace=True)\n",
    "print(frame)"
   ]
  },
  {
   "cell_type": "code",
   "execution_count": 2,
   "metadata": {
    "colab": {
     "base_uri": "https://localhost:8080/"
    },
    "executionInfo": {
     "elapsed": 935,
     "status": "ok",
     "timestamp": 1619415639528,
     "user": {
      "displayName": "Lun Po",
      "photoUrl": "",
      "userId": "04140092506556908792"
     },
     "user_tz": -480
    },
    "id": "-7fwGhDiqRKC",
    "outputId": "d5671651-35af-45c6-ab33-b76d0ad424d3"
   },
   "outputs": [
    {
     "name": "stdout",
     "output_type": "stream",
     "text": [
      "5\n",
      "\n",
      "    state  year  pop\n",
      "0    Ohio  2017  1.5\n",
      "1    Ohio  2018  1.7\n",
      "3  Nevada  2018  2.4\n",
      "4  Nevada  2019  2.9\n",
      "\n",
      "    state  year  pop\n",
      "0    Ohio  2017  1.5\n",
      "1    Ohio  2018  1.7\n",
      "2  Nevada  2018  2.4\n",
      "3  Nevada  2019  2.9\n"
     ]
    }
   ],
   "source": [
    "import pandas as pd\n",
    "\n",
    "data = {'state': ['Ohio', 'Ohio', 'Ohio', 'Nevada', 'Nevada'],\n",
    "        'year': [2017, 2018, 2019, 2018, 2019],\n",
    "        'pop': [1.5, 1.7, 3.6, 2.4, 2.9]}\n",
    "frame = pd.DataFrame(data)\n",
    "\n",
    "#Length of a DataFrame\n",
    "frame_length = len(frame.index)\n",
    "print(frame_length)\n",
    "print()\n",
    "\n",
    "#Index of Data Frame will not be in order\n",
    "frame.drop(2, inplace=True)\n",
    "print(frame)\n",
    "print()\n",
    "\n",
    "#reset_index will reorder the index\n",
    "frame.reset_index(drop=True, inplace=True)\n",
    "print(frame)\n"
   ]
  }
 ],
 "metadata": {
  "colab": {
   "authorship_tag": "ABX9TyMr46y3AJAhEVmzFkGnEyWo",
   "name": "Pandas.ipynb",
   "provenance": []
  },
  "kernelspec": {
   "display_name": "Python 3",
   "language": "python",
   "name": "python3"
  },
  "language_info": {
   "codemirror_mode": {
    "name": "ipython",
    "version": 3
   },
   "file_extension": ".py",
   "mimetype": "text/x-python",
   "name": "python",
   "nbconvert_exporter": "python",
   "pygments_lexer": "ipython3",
   "version": "3.8.8"
  }
 },
 "nbformat": 4,
 "nbformat_minor": 1
}
