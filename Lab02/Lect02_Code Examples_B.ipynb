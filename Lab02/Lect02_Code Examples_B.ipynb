{
 "cells": [
  {
   "cell_type": "code",
   "execution_count": 4,
   "metadata": {
    "colab": {
     "base_uri": "https://localhost:8080/"
    },
    "executionInfo": {
     "elapsed": 1467,
     "status": "ok",
     "timestamp": 1618983119607,
     "user": {
      "displayName": "Lun Po",
      "photoUrl": "",
      "userId": "04140092506556908792"
     },
     "user_tz": -480
    },
    "id": "6zfXDbx9KMdg",
    "outputId": "eaf12249-b968-4418-ef7a-ce5d85d86fc6"
   },
   "outputs": [
    {
     "name": "stdout",
     "output_type": "stream",
     "text": [
      "[0 1 2 3 4 5 6 7 8 9]\n",
      "['Honda' 'Toyota' 'BMW' 'Merz' 'Mazda' 'Proton']\n",
      "<class 'numpy.ndarray'>\n",
      "Merz\n"
     ]
    }
   ],
   "source": [
    "import numpy as np\n",
    "emptyarr = np.empty(10, dtype=int)\n",
    "print(emptyarr)\n",
    "cars=np.array(['Honda','Toyota','BMW','Merz','Mazda','Proton'])\n",
    "print(cars)\n",
    "print(type(cars))\n",
    "print(cars[3])"
   ]
  },
  {
   "cell_type": "code",
   "execution_count": 2,
   "metadata": {
    "colab": {
     "base_uri": "https://localhost:8080/"
    },
    "executionInfo": {
     "elapsed": 658,
     "status": "ok",
     "timestamp": 1618982748585,
     "user": {
      "displayName": "Lun Po",
      "photoUrl": "",
      "userId": "04140092506556908792"
     },
     "user_tz": -480
    },
    "id": "nUkScrdI4QGc",
    "outputId": "5ce42a11-2f6d-4cb2-a40a-c896b0ab6024"
   },
   "outputs": [
    {
     "name": "stdout",
     "output_type": "stream",
     "text": [
      "[0 1 2 3 4 5 6 7 8 9]\n",
      "[1 3 5 7 9]\n"
     ]
    }
   ],
   "source": [
    "import numpy as np\n",
    "#Create an array which initialize with 0 to 9\n",
    "arr = np.arange(10)\n",
    "print(arr)\n",
    "#Create an array which initialize with:\n",
    "#Start from 1, end with 10, step value 2\n",
    "arr = np.arange(1,10,2)\n",
    "print(arr)"
   ]
  },
  {
   "cell_type": "code",
   "execution_count": 1,
   "metadata": {
    "colab": {
     "base_uri": "https://localhost:8080/"
    },
    "executionInfo": {
     "elapsed": 611,
     "status": "ok",
     "timestamp": 1618551092481,
     "user": {
      "displayName": "Lun Po",
      "photoUrl": "",
      "userId": "04140092506556908792"
     },
     "user_tz": -480
    },
    "id": "7ogFMzjzKW0A",
    "outputId": "0ee4ea31-10f2-42b7-babc-f3d0eb33b35f"
   },
   "outputs": [
    {
     "name": "stdout",
     "output_type": "stream",
     "text": [
      "44\n",
      "\n",
      "[747 322 870 508]\n",
      "\n",
      "[[747 322]\n",
      " [507 870]\n",
      " [ 99  81]]\n",
      "\n",
      "[[[747 322]\n",
      "  [507 870]]\n",
      "\n",
      " [[508 638]\n",
      "  [ 99  81]]]\n"
     ]
    }
   ],
   "source": [
    "import numpy as np\n",
    "\n",
    "#0 Dimension, only a value\n",
    "arr0 = np.array(44)\n",
    "print(arr0)\n",
    "print()\n",
    "#1 Dimension, a list to an array\n",
    "arr1 = np.array([747, 322, 870, 508])\n",
    "print(arr1)\n",
    "print()\n",
    "#2 Dimension, an array contain more than one 1D array\n",
    "arr2 = np.array([[747, 322], [507, 870], [99,81]])\n",
    "print(arr2)\n",
    "print()\n",
    "#3 Dimension, an array contain more than one 2D array\n",
    "arr3 = np.array([[[747, 322], [507, 870]], [[508, 638], [99, 81]]])\n",
    "print(arr3)"
   ]
  },
  {
   "cell_type": "code",
   "execution_count": 2,
   "metadata": {
    "colab": {
     "base_uri": "https://localhost:8080/"
    },
    "executionInfo": {
     "elapsed": 614,
     "status": "ok",
     "timestamp": 1618551153490,
     "user": {
      "displayName": "Lun Po",
      "photoUrl": "",
      "userId": "04140092506556908792"
     },
     "user_tz": -480
    },
    "id": "nSRX-ajkKd0w",
    "outputId": "b2b5fb9f-0abe-4593-df24-d9bad427d911"
   },
   "outputs": [
    {
     "name": "stdout",
     "output_type": "stream",
     "text": [
      "0\n",
      "1\n",
      "2\n",
      "3\n"
     ]
    }
   ],
   "source": [
    "import numpy as np\n",
    "\n",
    "arr0 = np.array(44)\n",
    "arr1 = np.array([747, 322, 870, 508])\n",
    "arr2 = np.array([[747, 322], [507, 870], [99,81]])\n",
    "arr3 = np.array([[[747, 322], [507, 870]], [[508, 638], [99, 81]]])\n",
    "\n",
    "#Show Dimension of an array\n",
    "print(arr0.ndim)\n",
    "print(arr1.ndim)\n",
    "print(arr2.ndim)\n",
    "print(arr3.ndim)"
   ]
  },
  {
   "cell_type": "code",
   "execution_count": null,
   "metadata": {
    "colab": {
     "base_uri": "https://localhost:8080/"
    },
    "executionInfo": {
     "elapsed": 592,
     "status": "ok",
     "timestamp": 1618551648604,
     "user": {
      "displayName": "Lun Po",
      "photoUrl": "",
      "userId": "04140092506556908792"
     },
     "user_tz": -480
    },
    "id": "HZ0fluCLLWm2",
    "outputId": "d33c82b6-3811-42e3-c2f3-97a5d5c15ad3"
   },
   "outputs": [
    {
     "name": "stdout",
     "output_type": "stream",
     "text": [
      "[[[[8 9 6 4]]]]\n",
      "number of dimensions : 4\n"
     ]
    }
   ],
   "source": [
    "import numpy as np\n",
    "#Create an array with 4 Dimension\n",
    "arr = np.array([8, 9, 6, 4], ndmin=4)\n",
    "\n",
    "print(arr)\n",
    "print('number of dimensions :', arr.ndim)"
   ]
  },
  {
   "cell_type": "code",
   "execution_count": null,
   "metadata": {
    "colab": {
     "base_uri": "https://localhost:8080/"
    },
    "executionInfo": {
     "elapsed": 586,
     "status": "ok",
     "timestamp": 1618552594916,
     "user": {
      "displayName": "Lun Po",
      "photoUrl": "",
      "userId": "04140092506556908792"
     },
     "user_tz": -480
    },
    "id": "Xi0KDvgvOeFj",
    "outputId": "1eb4d867-3456-47a2-f605-0a57f19bd810"
   },
   "outputs": [
    {
     "name": "stdout",
     "output_type": "stream",
     "text": [
      "[1 3]\n",
      "[0 3 6]\n"
     ]
    }
   ],
   "source": [
    "import numpy as np\n",
    "\n",
    "arr = np.array([0, 1, 2, 3, 4, 5, 6, 7])\n",
    "#Print arr from position 1 to 5 with step 2\n",
    "print(arr[1:5:2])\n",
    "\n",
    "#Print the whole arr from with step 3\n",
    "print(arr[::3])\n"
   ]
  },
  {
   "cell_type": "code",
   "execution_count": null,
   "metadata": {
    "colab": {
     "base_uri": "https://localhost:8080/"
    },
    "executionInfo": {
     "elapsed": 594,
     "status": "ok",
     "timestamp": 1618553524673,
     "user": {
      "displayName": "Lun Po",
      "photoUrl": "",
      "userId": "04140092506556908792"
     },
     "user_tz": -480
    },
    "id": "Moof00JJQ34n",
    "outputId": "026002e7-688b-4bdb-8b0e-26cfbd46c56c"
   },
   "outputs": [
    {
     "name": "stdout",
     "output_type": "stream",
     "text": [
      "[7 8 9]\n",
      "[[2 3]\n",
      " [8 9]]\n"
     ]
    }
   ],
   "source": [
    "import numpy as np\n",
    "arr = np.array([[0, 1, 2, 3, 4, 5], [6, 7, 8, 9, 10, 11]])\n",
    "\n",
    "#First parameter is the position of 1-D array, \n",
    "#here is position 1, [6, 7, 8, 9, 10, 11]\n",
    "#Second parameter is the position of the above array\n",
    "#here are from position 1 to 4 (not include 4)\n",
    "print(arr[1, 1:4])\n",
    "\n",
    "#Seleact all 1-D array,\n",
    "#each 1-D array select position 2 to 4\n",
    "print(arr[:, 2:4])\n"
   ]
  },
  {
   "cell_type": "code",
   "execution_count": null,
   "metadata": {
    "colab": {
     "base_uri": "https://localhost:8080/"
    },
    "executionInfo": {
     "elapsed": 774,
     "status": "ok",
     "timestamp": 1618555314269,
     "user": {
      "displayName": "Lun Po",
      "photoUrl": "",
      "userId": "04140092506556908792"
     },
     "user_tz": -480
    },
    "id": "3O6_k-PzaacP",
    "outputId": "a1a9633e-c777-4846-a021-165aca36d8aa"
   },
   "outputs": [
    {
     "name": "stdout",
     "output_type": "stream",
     "text": [
      "(2, 6)\n"
     ]
    }
   ],
   "source": [
    "import numpy as np\n",
    "arr = np.array([[0, 1, 2, 3, 4, 5], [6, 7, 8, 9, 10, 11]])\n",
    "\n",
    "#Show the size of 1-D arrays in the 2-D arr\n",
    "print(arr.shape)"
   ]
  },
  {
   "cell_type": "code",
   "execution_count": null,
   "metadata": {
    "colab": {
     "base_uri": "https://localhost:8080/"
    },
    "executionInfo": {
     "elapsed": 716,
     "status": "ok",
     "timestamp": 1618556518390,
     "user": {
      "displayName": "Lun Po",
      "photoUrl": "",
      "userId": "04140092506556908792"
     },
     "user_tz": -480
    },
    "id": "JfsgUPHEcj55",
    "outputId": "4ca65472-8403-4063-db18-9480bcc1943c"
   },
   "outputs": [
    {
     "name": "stdout",
     "output_type": "stream",
     "text": [
      "[[ 0  1  2]\n",
      " [ 3  4  5]\n",
      " [ 6  7  8]\n",
      " [ 9 10 11]]\n",
      "\n",
      "[[[ 0  1]\n",
      "  [ 2  3]\n",
      "  [ 4  5]]\n",
      "\n",
      " [[ 6  7]\n",
      "  [ 8  9]\n",
      "  [10 11]]]\n"
     ]
    }
   ],
   "source": [
    "import numpy as np\n",
    "\n",
    "arr = np.array([0, 1, 2, 3, 4, 5, 6, 7, 8, 9, 10, 11])\n",
    "\n",
    "#reshape 1-D array to 2-D array which is 4 rows x 3 columns\n",
    "#the size of 1-D array MUST be 4 x 3 =12 in this example\n",
    "arr2d = arr.reshape(4, 3)\n",
    "print(arr2d)\n",
    "print()\n",
    "\n",
    "#reshape 1-D array to 3-D array which contains \n",
    "#2 2-D arrays, and each 2-D array contain 3 1-D array,\n",
    "#and each 1-D array contain 2 elements.\n",
    "#The size of the above 1-D array MUST be 2x3x2 =12 in this example\n",
    "arr3d = arr.reshape(2, 3, 2)\n",
    "print(arr3d)"
   ]
  },
  {
   "cell_type": "code",
   "execution_count": 3,
   "metadata": {
    "colab": {
     "base_uri": "https://localhost:8080/"
    },
    "executionInfo": {
     "elapsed": 586,
     "status": "ok",
     "timestamp": 1618561794586,
     "user": {
      "displayName": "Lun Po",
      "photoUrl": "",
      "userId": "04140092506556908792"
     },
     "user_tz": -480
    },
    "id": "qNVFaSDHyxbG",
    "outputId": "9b9d4974-5416-405d-fe26-af986271d940"
   },
   "outputs": [
    {
     "name": "stdout",
     "output_type": "stream",
     "text": [
      "(array([0, 4], dtype=int64),)\n",
      "(array([3, 6], dtype=int64),)\n"
     ]
    }
   ],
   "source": [
    "import numpy as np\n",
    "arr = np.array([7, 8, 5, 3, 7, 1, 6])\n",
    "\n",
    "#search value in array which is equal to 7\n",
    "search = np.where(arr == 7)\n",
    "print(search)\n",
    "\n",
    "#search value in array which is divisible by 3\n",
    "search = np.where(arr%3 == 0)\n",
    "print(search)"
   ]
  },
  {
   "cell_type": "code",
   "execution_count": 4,
   "metadata": {
    "colab": {
     "base_uri": "https://localhost:8080/"
    },
    "executionInfo": {
     "elapsed": 592,
     "status": "ok",
     "timestamp": 1618563375679,
     "user": {
      "displayName": "Lun Po",
      "photoUrl": "",
      "userId": "04140092506556908792"
     },
     "user_tz": -480
    },
    "id": "IDuG_cj34hMy",
    "outputId": "6b86bfed-d958-49c7-d71b-b1d5f4a24646"
   },
   "outputs": [
    {
     "name": "stdout",
     "output_type": "stream",
     "text": [
      "[1 3 5 6 7 7 8]\n",
      "6\n"
     ]
    }
   ],
   "source": [
    "import numpy as np\n",
    "arr = np.array([7, 8, 5, 3, 7, 1, 6])\n",
    "\n",
    "sorted = np.sort(arr)\n",
    "print(sorted)\n",
    "\n",
    "#search the poistion of first matched value in array \n",
    "#which is equal to 8\n",
    "search = np.searchsorted(sorted, 8)\n",
    "print(search)"
   ]
  },
  {
   "cell_type": "code",
   "execution_count": 5,
   "metadata": {
    "colab": {
     "base_uri": "https://localhost:8080/"
    },
    "executionInfo": {
     "elapsed": 578,
     "status": "ok",
     "timestamp": 1618564609187,
     "user": {
      "displayName": "Lun Po",
      "photoUrl": "",
      "userId": "04140092506556908792"
     },
     "user_tz": -480
    },
    "id": "yLjwEkVa7Jff",
    "outputId": "3c8259f1-fb83-45d3-fc75-4a5d7060ee90"
   },
   "outputs": [
    {
     "name": "stdout",
     "output_type": "stream",
     "text": [
      "[5 7 6]\n",
      "[7 8 7]\n"
     ]
    }
   ],
   "source": [
    "import numpy as np\n",
    "arr = np.array([7, 8, 5, 3, 7, 1, 6])\n",
    "#Manually create a filter array by using True or False\n",
    "filter = [False, False, True, False, True, False, True]\n",
    "filterarr = arr[filter]\n",
    "print(filterarr)\n",
    "\n",
    "#Create a filter array by using a logical expression\n",
    "filter = arr > 6\n",
    "filterarr = arr[filter]\n",
    "\n",
    "print(filterarr)"
   ]
  },
  {
   "cell_type": "code",
   "execution_count": 6,
   "metadata": {
    "colab": {
     "base_uri": "https://localhost:8080/"
    },
    "executionInfo": {
     "elapsed": 641,
     "status": "ok",
     "timestamp": 1618985473209,
     "user": {
      "displayName": "Lun Po",
      "photoUrl": "",
      "userId": "04140092506556908792"
     },
     "user_tz": -480
    },
    "id": "7RAeRk_ECR3E",
    "outputId": "56a54fab-499f-4b53-b3a1-dccfb93fd30f"
   },
   "outputs": [
    {
     "name": "stdout",
     "output_type": "stream",
     "text": [
      "[7 8 5 7 1 6]\n",
      "[7 5 7]\n"
     ]
    }
   ],
   "source": [
    "import numpy as np\n",
    "arr = np.array([7, 8, 5, 3, 7, 1, 6])\n",
    "#Delete an item at position 3\n",
    "arr = np.delete(arr, 3)\n",
    "print(arr) \n",
    "#Delete items at position 1, 4, 5\n",
    "arr = np.delete(arr, [1, 4, 5])\n",
    "print(arr)"
   ]
  }
 ],
 "metadata": {
  "colab": {
   "authorship_tag": "ABX9TyNHGPIQmGy6XaIz5p9ePm2I",
   "name": "NumPy.ipynb",
   "provenance": []
  },
  "kernelspec": {
   "display_name": "Python 3",
   "language": "python",
   "name": "python3"
  },
  "language_info": {
   "codemirror_mode": {
    "name": "ipython",
    "version": 3
   },
   "file_extension": ".py",
   "mimetype": "text/x-python",
   "name": "python",
   "nbconvert_exporter": "python",
   "pygments_lexer": "ipython3",
   "version": "3.8.8"
  }
 },
 "nbformat": 4,
 "nbformat_minor": 1
}
