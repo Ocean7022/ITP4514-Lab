{
 "cells": [
  {
   "cell_type": "markdown",
   "metadata": {},
   "source": [
    "## ITP4514 - Lecture 2 - Code Examples"
   ]
  },
  {
   "cell_type": "code",
   "execution_count": 1,
   "metadata": {
    "colab": {
     "base_uri": "https://localhost:8080/"
    },
    "executionInfo": {
     "elapsed": 644,
     "status": "ok",
     "timestamp": 1617950218580,
     "user": {
      "displayName": "Lun Po",
      "photoUrl": "",
      "userId": "04140092506556908792"
     },
     "user_tz": -480
    },
    "id": "SZPrlzoGQSxI",
    "outputId": "09bb205e-c024-46ae-da63-03297706bba3"
   },
   "outputs": [
    {
     "name": "stdout",
     "output_type": "stream",
     "text": [
      "['apple', 'durian', 'orange', 'banana', 'strawberry', 'mango', 'starfruit', 'rambutan']\n",
      "rambutan\n",
      "['durian', 'orange', 'banana', 'strawberry']\n",
      "['apple', 'durian', 'orange', 'banana', 'strawberry']\n",
      "['mango', 'starfruit', 'rambutan']\n",
      "['banana', 'strawberry', 'mango', 'starfruit']\n"
     ]
    }
   ],
   "source": [
    "mix = [1, True, 'Alan'] # List items can be of any data type \n",
    "fruits=['apple','durian','orange','banana','strawberry','mango','starfruit','rambutan']\n",
    "print(fruits) #print all items\n",
    "print(fruits[-1])\n",
    "\n",
    "#This will return the items from position 1 to 5.\n",
    "#The first item is position 0 and the LAST item \"mango\" is NOT included\n",
    "print(fruits[1:5])\n",
    "\n",
    "print(fruits[:5]) # extract value from poistion 0 to 5\n",
    "print(fruits[5:]) # extract value from position 5 to the last one\n",
    "\n",
    "# extract items from \"banana\" (-5) to, but NOT including \"rambutan\" (-1)\n",
    "print(fruits[-5:-1])"
   ]
  },
  {
   "cell_type": "code",
   "execution_count": 2,
   "metadata": {
    "colab": {
     "base_uri": "https://localhost:8080/"
    },
    "executionInfo": {
     "elapsed": 645,
     "status": "ok",
     "timestamp": 1617952784608,
     "user": {
      "displayName": "Lun Po",
      "photoUrl": "",
      "userId": "04140092506556908792"
     },
     "user_tz": -480
    },
    "id": "DB6_cfoPpC9e",
    "outputId": "fffd4421-f677-46fc-88f5-172b030b98d3"
   },
   "outputs": [
    {
     "name": "stdout",
     "output_type": "stream",
     "text": [
      "8\n",
      "['apple', 'durian', 'banana', 'pear', 'duku', 'langsat', 'grape']\n",
      "['apple', 'durian', 'banana', 'pear', 'duku', 'langsat', 'grape', 'longan']\n",
      "['apple', 'durian', 'banana', 'pear', 'duku', 'grape', 'longan']\n",
      "langsat\n"
     ]
    }
   ],
   "source": [
    "fruits=['apple', 'durian', 'orange', 'banana', 'pear', 'duku', 'langsat', 'grape']\n",
    "if \"guava\" in fruits: # check if a fruit exists in the list\n",
    "  print(\"Yes, the fruit is available in the fruit list\") \n",
    "\n",
    "print(len(fruits)) # check the size of the list\n",
    "fruits.remove(\"orange\") # remove the item name\n",
    "print(fruits)\n",
    "fruits.append(\"longan\") # add another longan\n",
    "print(fruits)\n",
    "\n",
    "# remove the item at position 5 and assign to variable fruit\n",
    "fruit = fruits.pop(5) \n",
    "print(fruits)\n",
    "print(fruit)"
   ]
  },
  {
   "cell_type": "code",
   "execution_count": 3,
   "metadata": {
    "colab": {
     "base_uri": "https://localhost:8080/"
    },
    "executionInfo": {
     "elapsed": 673,
     "status": "ok",
     "timestamp": 1618208858110,
     "user": {
      "displayName": "Lun Po",
      "photoUrl": "",
      "userId": "04140092506556908792"
     },
     "user_tz": -480
    },
    "id": "nXLB3B1Uuhol",
    "outputId": "991cc742-235b-43f9-ffc5-33d0708adeea"
   },
   "outputs": [
    {
     "name": "stdout",
     "output_type": "stream",
     "text": [
      "['apple', 'durian', 'orange', 'duku', 'strawberry', 'mango', 'starfruit', 'rambutan']\n",
      "['apple', 'durian', 'orange', 'duku', 'pear', 'grape', 'guava', 'rambutan']\n",
      "['apple', 'durian', 'orange', 'duku', 'mango', 'rambutan']\n",
      "['apple', 'durian', 'orange', 'duku', 'pear', 'grape', 'rambutan']\n",
      "['apple', 'durian', 'orange', 'duku', 'pear', 'grape', 'starfruit']\n"
     ]
    }
   ],
   "source": [
    "fruits=['apple','durian','orange','banana','strawberry','mango','starfruit','rambutan']\n",
    "fruits[3] = \"duku\" #change item at position 3 to \"duku\"\n",
    "print(fruits)\n",
    "\n",
    "#change items from position 4 to position 7\n",
    "fruits[4:7] = [\"pear\", \"grape\", \"guava\"]\n",
    "print(fruits)\n",
    "\n",
    "#change items from position 4 to position 7 by ONE item\n",
    "fruits[4:7] = [\"mango\"]\n",
    "print(fruits)\n",
    "\n",
    "#change items at position 4 with TWO items\n",
    "#by using this change syntax, you CANNOT change last item!\n",
    "fruits[4:5] = [\"pear\", \"grape\"]\n",
    "print(fruits)\n",
    "\n",
    "#change last item to \"starfruit\"\n",
    "fruits[-1] = \"starfruit\"\n",
    "print(fruits)"
   ]
  },
  {
   "cell_type": "code",
   "execution_count": 4,
   "metadata": {
    "colab": {
     "base_uri": "https://localhost:8080/"
    },
    "executionInfo": {
     "elapsed": 674,
     "status": "ok",
     "timestamp": 1618210868426,
     "user": {
      "displayName": "Lun Po",
      "photoUrl": "",
      "userId": "04140092506556908792"
     },
     "user_tz": -480
    },
    "id": "w4qsWgoPyRrL",
    "outputId": "7878d6c6-4ad6-458c-9b31-eef6131a12f0"
   },
   "outputs": [
    {
     "name": "stdout",
     "output_type": "stream",
     "text": [
      "['apple', 'durian', 'duku', 'grape', 'longan']\n",
      "['apple', 'durian', 'duku', 'mango', 'grape', 'longan']\n",
      "['apple', 'durian', 'duku', 'mango', 'grape', 'longan', 'rambutan', 'strawberry']\n"
     ]
    }
   ],
   "source": [
    "fruits=['apple', 'durian', 'duku', 'grape']\n",
    "\n",
    "fruits.append(\"longan\") # add an item at the end\n",
    "print(fruits)\n",
    "\n",
    "fruits.insert(3, \"mango\") #insert an item at position 3\n",
    "print(fruits)\n",
    "\n",
    "morefruits = [\"rambutan\", \"strawberry\"]\n",
    "fruits.extend(morefruits) #insert morefruits at the end\n",
    "print(fruits)"
   ]
  },
  {
   "cell_type": "code",
   "execution_count": 5,
   "metadata": {
    "colab": {
     "base_uri": "https://localhost:8080/",
     "height": 317
    },
    "executionInfo": {
     "elapsed": 864,
     "status": "error",
     "timestamp": 1618211598176,
     "user": {
      "displayName": "Lun Po",
      "photoUrl": "",
      "userId": "04140092506556908792"
     },
     "user_tz": -480
    },
    "id": "HLt5Mo531Bh0",
    "outputId": "07670bc0-556e-4a7f-8f1e-5814771ab322"
   },
   "outputs": [
    {
     "name": "stdout",
     "output_type": "stream",
     "text": [
      "['apple', 'durian', 'banana', 'pear', 'duku', 'langsat', 'grape']\n",
      "['apple', 'durian', 'banana', 'pear', 'duku', 'grape']\n",
      "langsat\n",
      "['apple', 'durian', 'banana', 'pear', 'duku']\n",
      "['apple', 'banana', 'pear', 'duku']\n",
      "[]\n"
     ]
    },
    {
     "ename": "NameError",
     "evalue": "name 'fruits' is not defined",
     "output_type": "error",
     "traceback": [
      "\u001b[1;31m---------------------------------------------------------------------------\u001b[0m",
      "\u001b[1;31mNameError\u001b[0m                                 Traceback (most recent call last)",
      "\u001b[1;32m<ipython-input-5-97520d21a7cc>\u001b[0m in \u001b[0;36m<module>\u001b[1;34m\u001b[0m\n\u001b[0;32m     19\u001b[0m \u001b[1;33m\u001b[0m\u001b[0m\n\u001b[0;32m     20\u001b[0m \u001b[1;32mdel\u001b[0m \u001b[0mfruits\u001b[0m \u001b[1;31m#remove the whole list\u001b[0m\u001b[1;33m\u001b[0m\u001b[1;33m\u001b[0m\u001b[0m\n\u001b[1;32m---> 21\u001b[1;33m \u001b[0mprint\u001b[0m\u001b[1;33m(\u001b[0m\u001b[0mfruits\u001b[0m\u001b[1;33m)\u001b[0m \u001b[1;31m#error, cannot find this list\u001b[0m\u001b[1;33m\u001b[0m\u001b[1;33m\u001b[0m\u001b[0m\n\u001b[0m",
      "\u001b[1;31mNameError\u001b[0m: name 'fruits' is not defined"
     ]
    }
   ],
   "source": [
    "fruits=['apple', 'durian', 'orange', 'banana', 'pear', 'duku', 'langsat', 'grape']\n",
    "\n",
    "fruits.remove(\"orange\") # remove the item by using value\n",
    "print(fruits)\n",
    "\n",
    "# remove the item at position 5 and assign to variable fruit\n",
    "fruit = fruits.pop(5) \n",
    "print(fruits)\n",
    "print(fruit)\n",
    "\n",
    "fruits.pop() #remove the first item\n",
    "print(fruits)\n",
    "\n",
    "del fruits[1] #remove the item at position 1\n",
    "print(fruits)\n",
    "\n",
    "fruits.clear() #remove all values\n",
    "print(fruits)\n",
    "\n",
    "del fruits #remove the whole list\n",
    "print(fruits) #error, cannot find this list"
   ]
  },
  {
   "cell_type": "code",
   "execution_count": 6,
   "metadata": {
    "colab": {
     "base_uri": "https://localhost:8080/"
    },
    "executionInfo": {
     "elapsed": 731,
     "status": "ok",
     "timestamp": 1618290975527,
     "user": {
      "displayName": "Lun Po",
      "photoUrl": "",
      "userId": "04140092506556908792"
     },
     "user_tz": -480
    },
    "id": "1N0rpPxooo5Z",
    "outputId": "d1fb022c-2c65-43bb-a8c8-dccd2fe3448a"
   },
   "outputs": [
    {
     "name": "stdout",
     "output_type": "stream",
     "text": [
      "6\n",
      "apple\n",
      "durian\n",
      "orange\n",
      "banana\n",
      "pear\n",
      "duku\n"
     ]
    }
   ],
   "source": [
    "fruits=['apple', 'durian', 'orange', 'banana', 'pear', 'duku']\n",
    "\n",
    "print(len(fruits)) #Length of List\n",
    "\n",
    "if \"guava\" in fruits: # check if a fruit exists in the list\n",
    "  print(\"Yes, the fruit is available in the fruit list\") \n",
    "\n",
    "for fruit in fruits: #for each loop to access list items\n",
    "  print(fruit)"
   ]
  },
  {
   "cell_type": "code",
   "execution_count": 7,
   "metadata": {
    "colab": {
     "base_uri": "https://localhost:8080/"
    },
    "executionInfo": {
     "elapsed": 854,
     "status": "ok",
     "timestamp": 1618293940876,
     "user": {
      "displayName": "Lun Po",
      "photoUrl": "",
      "userId": "04140092506556908792"
     },
     "user_tz": -480
    },
    "id": "VIfxofHbyS0A",
    "outputId": "94764fc4-1c2e-4312-955a-a13783d431fb"
   },
   "outputs": [
    {
     "name": "stdout",
     "output_type": "stream",
     "text": [
      "['apple', 'banana', 'durian', 'orange']\n",
      "['orange', 'durian', 'banana', 'apple']\n",
      "['orange', 'durian', 'banana', 'apple']\n",
      "['orange', 'durian', 'banana', 'apple', 'pear', 'guava']\n"
     ]
    }
   ],
   "source": [
    "fruits=['apple', 'durian', 'orange', 'banana']\n",
    "fruits.sort() #Sort a List\n",
    "print(fruits)\n",
    "\n",
    "fruits.sort(reverse = True) #Sort in reverse order\n",
    "print(fruits)\n",
    "\n",
    "#Same as Java, it is object reference,\n",
    "#cannot copy to a new List.\n",
    "newfruits = fruits\n",
    "\n",
    "#use .copy() to copy list items to a new list\n",
    "newfruits = fruits.copy()\n",
    "print(newfruits) \n",
    "\n",
    "#Join two lists to one list\n",
    "fruits2 = ['pear', 'guava']\n",
    "fruits3 = fruits + fruits2\n",
    "print(fruits3)"
   ]
  },
  {
   "cell_type": "code",
   "execution_count": 8,
   "metadata": {
    "colab": {
     "base_uri": "https://localhost:8080/"
    },
    "executionInfo": {
     "elapsed": 828,
     "status": "ok",
     "timestamp": 1618552009673,
     "user": {
      "displayName": "Lun Po",
      "photoUrl": "",
      "userId": "04140092506556908792"
     },
     "user_tz": -480
    },
    "id": "rnx8LKUXk-mB",
    "outputId": "f48a62c8-e449-4340-9af9-272275a8f75f"
   },
   "outputs": [
    {
     "name": "stdout",
     "output_type": "stream",
     "text": [
      "('apple', 'durian', 'orange', 'banana', 'strawberry', 'mango', 'starfruit', 'rambutan')\n",
      "rambutan\n",
      "('durian', 'orange', 'banana', 'strawberry')\n",
      "('apple', 'durian', 'orange', 'banana', 'strawberry')\n",
      "('mango', 'starfruit', 'rambutan')\n",
      "('banana', 'strawberry', 'mango', 'starfruit')\n"
     ]
    }
   ],
   "source": [
    "fruits=('apple','durian','orange','banana','strawberry','mango','starfruit','rambutan')\n",
    "print(fruits) #print all items\n",
    "print(fruits[-1])\n",
    "\n",
    "#This will return the items from position 1 to 5.\n",
    "#The first item is position 0 and the LAST item \"mango\" is NOT included\n",
    "print(fruits[1:5])\n",
    "\n",
    "print(fruits[:5]) # extract value from poistion 0 to 5\n",
    "print(fruits[5:]) # extract value from position 5 to the last one\n",
    "\n",
    "# extract items from \"banana\" (-5) to, but NOT including \"rambutan\" (-1)\n",
    "print(fruits[-5:-1])"
   ]
  },
  {
   "cell_type": "code",
   "execution_count": 9,
   "metadata": {
    "colab": {
     "base_uri": "https://localhost:8080/"
    },
    "executionInfo": {
     "elapsed": 634,
     "status": "ok",
     "timestamp": 1618292301686,
     "user": {
      "displayName": "Lun Po",
      "photoUrl": "",
      "userId": "04140092506556908792"
     },
     "user_tz": -480
    },
    "id": "931F6tNjujlP",
    "outputId": "def521e3-c7ec-473f-bc35-f57f0c7f0fb4"
   },
   "outputs": [
    {
     "name": "stdout",
     "output_type": "stream",
     "text": [
      "('apple', 'pear', 'orange', 'banana', 'strawberry')\n"
     ]
    }
   ],
   "source": [
    "fruits=('apple','durian','orange','banana','strawberry')\n",
    "#fruits[1] = \"pear\" #error\n",
    "\n",
    "fruitslist = list(fruits) #convert to list\n",
    "fruitslist[1] = \"pear\"\n",
    "fruits = tuple(fruitslist) #convert back to tuple\n",
    "print(fruits)"
   ]
  },
  {
   "cell_type": "code",
   "execution_count": 10,
   "metadata": {
    "colab": {
     "base_uri": "https://localhost:8080/"
    },
    "executionInfo": {
     "elapsed": 683,
     "status": "ok",
     "timestamp": 1618381823978,
     "user": {
      "displayName": "Lun Po",
      "photoUrl": "",
      "userId": "04140092506556908792"
     },
     "user_tz": -480
    },
    "id": "IB7Qj1UA9tUT",
    "outputId": "ebf95eaa-8ac4-44f0-adb5-693042f8cfb2"
   },
   "outputs": [
    {
     "name": "stdout",
     "output_type": "stream",
     "text": [
      "['Honda' 'Toyota' 'BMW' 'Merz' 'Mazda' 'Proton']\n",
      "<class 'numpy.ndarray'>\n",
      "Merz\n"
     ]
    }
   ],
   "source": [
    "import numpy as np\n",
    "cars = np.array(['Honda','Toyota','BMW','Merz','Mazda','Proton'])\n",
    "print(cars)\n",
    "print(type(cars))\n",
    "print(cars[3])"
   ]
  },
  {
   "cell_type": "code",
   "execution_count": 1,
   "metadata": {
    "colab": {
     "base_uri": "https://localhost:8080/"
    },
    "executionInfo": {
     "elapsed": 667,
     "status": "ok",
     "timestamp": 1618384130726,
     "user": {
      "displayName": "Lun Po",
      "photoUrl": "",
      "userId": "04140092506556908792"
     },
     "user_tz": -480
    },
    "id": "5D-_2vRPGD9t",
    "outputId": "3c7df822-5172-409f-c33b-06e5c13a832c"
   },
   "outputs": [
    {
     "name": "stdout",
     "output_type": "stream",
     "text": [
      "44\n",
      "\n",
      "[747 322 870 508]\n",
      "\n",
      "[[747 322]\n",
      " [507 870]\n",
      " [508 638]\n",
      " [ 99  81]]\n",
      "\n",
      "[[[747 322]\n",
      "  [507 870]]\n",
      "\n",
      " [[508 638]\n",
      "  [ 99  81]]]\n"
     ]
    }
   ],
   "source": [
    "import numpy as np\n",
    "\n",
    "#0 Dimension, only a value\n",
    "arr0 = np.array(44)\n",
    "print(arr0)\n",
    "print()\n",
    "#1 Dimension, a list to an array\n",
    "arr1 = np.array([747, 322, 870, 508])\n",
    "print(arr1)\n",
    "print()\n",
    "#2 Dimension, an array contain more than one 1D array\n",
    "arr2 = np.array([[747, 322], [507, 870], [508,638], [99, 81]])\n",
    "print(arr2)\n",
    "print()\n",
    "#3 Dimension, an array contain more than one 2D array\n",
    "arr3 = np.array([[[747, 322], [507, 870]], [[508, 638], [99, 81]]])\n",
    "print(arr3)"
   ]
  },
  {
   "cell_type": "code",
   "execution_count": 12,
   "metadata": {
    "colab": {
     "base_uri": "https://localhost:8080/"
    },
    "executionInfo": {
     "elapsed": 698,
     "status": "ok",
     "timestamp": 1619067088630,
     "user": {
      "displayName": "Lun Po",
      "photoUrl": "",
      "userId": "04140092506556908792"
     },
     "user_tz": -480
    },
    "id": "EgYAdlGt5vjm",
    "outputId": "8ece2bf1-b600-4a69-c8c7-366a3d0d1b4d"
   },
   "outputs": [
    {
     "name": "stdout",
     "output_type": "stream",
     "text": [
      "[1, 2, 3, 4, 5, 6, 7, 8, 9]\n",
      "[1, 3, 5, 7, 9]\n"
     ]
    }
   ],
   "source": [
    "#Casting range() to create a list from 1 to 9\n",
    "arr = list(range(1,10))\n",
    "print(arr)\n",
    "\n",
    "#Create a list from 1 to 9 with step 2\n",
    "arr = list(range(1,10,2))\n",
    "print(arr)"
   ]
  }
 ],
 "metadata": {
  "colab": {
   "authorship_tag": "ABX9TyNaiuk9IqD9AavCxCAhIZau",
   "name": "CollectionDataTypes.ipynb",
   "provenance": []
  },
  "kernelspec": {
   "display_name": "Python 3",
   "language": "python",
   "name": "python3"
  },
  "language_info": {
   "codemirror_mode": {
    "name": "ipython",
    "version": 3
   },
   "file_extension": ".py",
   "mimetype": "text/x-python",
   "name": "python",
   "nbconvert_exporter": "python",
   "pygments_lexer": "ipython3",
   "version": "3.8.8"
  }
 },
 "nbformat": 4,
 "nbformat_minor": 1
}
