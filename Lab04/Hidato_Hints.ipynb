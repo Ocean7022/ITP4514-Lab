{
 "cells": [
  {
   "cell_type": "markdown",
   "metadata": {},
   "source": [
    "## Hidato (Hints)"
   ]
  },
  {
   "cell_type": "markdown",
   "metadata": {},
   "source": [
    "### Build a Variable List of Adjacent Cells"
   ]
  },
  {
   "cell_type": "code",
   "execution_count": 1,
   "metadata": {},
   "outputs": [],
   "source": [
    "delta = [[-1, 0], # go up\n",
    "         [-1, 1], # go up right\n",
    "         [0, 1], # go right\n",
    "         [1, 1], # go down right\n",
    "         [1, 0], # go down\n",
    "         [1, -1], # down left\n",
    "         [0, -1], # go left\n",
    "         [-1, -1]] # go up left"
   ]
  },
  {
   "cell_type": "code",
   "execution_count": 2,
   "metadata": {},
   "outputs": [],
   "source": [
    "def build_var_list2(row, col, VARS):\n",
    "    var_list = []\n",
    "    var_list.append(VARS[row*n + col])\n",
    "\n",
    "    ...\n",
    "            var_list.append(VARS[row2*n + col2])\n",
    "\n",
    "    return var_list"
   ]
  },
  {
   "cell_type": "markdown",
   "metadata": {},
   "source": [
    "### Check If Adjacent Cells Contain Consecutive Numbers"
   ]
  },
  {
   "cell_type": "code",
   "execution_count": 3,
   "metadata": {},
   "outputs": [],
   "source": [
    "def consecutive(var0, *argv):\n",
    "    less = greater = False\n",
    "\n",
    "    ...\n",
    "    \n",
    "    return less and greater"
   ]
  },
  {
   "cell_type": "markdown",
   "metadata": {},
   "source": [
    "### Print a Pretty Solution"
   ]
  },
  {
   "cell_type": "code",
   "execution_count": 4,
   "metadata": {},
   "outputs": [],
   "source": [
    "def pretty(solution):\n",
    "    board = ''\n",
    "    for row in ROWS:\n",
    "        for col in COLS:\n",
    "            board += \"{:4d}\".format(solution[row+col])\n",
    "\n",
    "        board += '\\n'\n",
    "\n",
    "    return board"
   ]
  },
  {
   "cell_type": "markdown",
   "metadata": {},
   "source": [
    "### Define Variables and Domains for the CSP"
   ]
  },
  {
   "cell_type": "code",
   "execution_count": 5,
   "metadata": {},
   "outputs": [
    {
     "name": "stdout",
     "output_type": "stream",
     "text": [
      "['a1', 'a2', 'a3', 'a4', 'b1', 'b2', 'b3', 'b4', 'c1', 'c2', 'c3', 'c4', 'd1', 'd2', 'd3', 'd4']\n"
     ]
    }
   ],
   "source": [
    "from constraint import *\n",
    "\n",
    "n = 4\n",
    "dom = range(1, n*n+1)\n",
    "\n",
    "ROWS = \"\".join([chr(97+i) for i in range(n)])\n",
    "COLS = \"\".join([str(i) for i in range(1,n+1)])\n",
    "VARS = [row + col for row in ROWS for col in COLS]\n",
    "\n",
    "print(VARS)"
   ]
  },
  {
   "cell_type": "markdown",
   "metadata": {},
   "source": [
    "### Add Variables, Domains and Constraints to the CSP"
   ]
  },
  {
   "cell_type": "code",
   "execution_count": 6,
   "metadata": {},
   "outputs": [],
   "source": [
    "def solve(hints):\n",
    "    problem = Problem()\n",
    "\n",
    "    ...\n",
    "    \n",
    "    for row in range(n):\n",
    "        for col in range(n):\n",
    "            # Add constraints\n",
    "            \n",
    "    return problem.getSolutions()"
   ]
  },
  {
   "cell_type": "markdown",
   "metadata": {},
   "source": [
    "### Define the Initial Setting of a Board"
   ]
  },
  {
   "cell_type": "code",
   "execution_count": 7,
   "metadata": {},
   "outputs": [],
   "source": [
    "hints = (\n",
    "    15, 16,  0,  3,\n",
    "    14,  1,  2,  5,\n",
    "     0, 13,  0,  0,\n",
    "    12,  0,  8,  7,\n",
    ")"
   ]
  },
  {
   "cell_type": "markdown",
   "metadata": {},
   "source": [
    "### Find and Show Solution"
   ]
  },
  {
   "cell_type": "code",
   "execution_count": 8,
   "metadata": {},
   "outputs": [
    {
     "name": "stdout",
     "output_type": "stream",
     "text": [
      "  15  16   4   3\n",
      "  14   1   2   5\n",
      "  11  13   9   6\n",
      "  12  10   8   7\n",
      "\n",
      "Wall time: 7 ms\n"
     ]
    }
   ],
   "source": [
    "%%time\n",
    "solutions = solve(hints)\n",
    "if len(solutions) > 0:\n",
    "    for sol in solutions:\n",
    "        print(pretty(sol))"
   ]
  }
 ],
 "metadata": {
  "kernelspec": {
   "display_name": "Python 3",
   "language": "python",
   "name": "python3"
  },
  "language_info": {
   "codemirror_mode": {
    "name": "ipython",
    "version": 3
   },
   "file_extension": ".py",
   "mimetype": "text/x-python",
   "name": "python",
   "nbconvert_exporter": "python",
   "pygments_lexer": "ipython3",
   "version": "3.8.5"
  }
 },
 "nbformat": 4,
 "nbformat_minor": 4
}
